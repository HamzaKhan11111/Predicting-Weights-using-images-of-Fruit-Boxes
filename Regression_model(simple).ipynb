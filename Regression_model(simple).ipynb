{
  "cells": [
    {
      "cell_type": "markdown",
      "metadata": {
        "id": "kFwo3qnrG0_C"
      },
      "source": [
        "# Regression Model"
      ]
    },
    {
      "cell_type": "markdown",
      "metadata": {
        "id": "okemX9DCG0_J"
      },
      "source": [
        "### Importing Libraries"
      ]
    },
    {
      "cell_type": "code",
      "source": [
        "# from google.colab import drive\n",
        "# drive.mount('/content/drive')"
      ],
      "metadata": {
        "id": "hCfm1DUqG5FR"
      },
      "execution_count": 1,
      "outputs": []
    },
    {
      "cell_type": "code",
      "source": [
        "import os\n",
        "os.chdir(\"drive/MyDrive/DL_Project\")"
      ],
      "metadata": {
        "id": "VMNnP4M2G-6z"
      },
      "execution_count": 2,
      "outputs": []
    },
    {
      "cell_type": "code",
      "execution_count": 3,
      "metadata": {
        "id": "6A6WRQ9XG0_K"
      },
      "outputs": [],
      "source": [
        "from Dataset import MyDataset\n",
        "import torch\n",
        "import torch.nn as nn\n",
        "import torchvision.transforms as transforms"
      ]
    },
    {
      "cell_type": "code",
      "execution_count": 4,
      "metadata": {
        "id": "s8C0rcIOG0_O"
      },
      "outputs": [],
      "source": [
        "device=torch.device('cuda' if torch.cuda.is_available() else 'cpu')"
      ]
    },
    {
      "cell_type": "markdown",
      "metadata": {
        "id": "XIl5QLFOG0_P"
      },
      "source": [
        "### Implementing Model"
      ]
    },
    {
      "cell_type": "code",
      "execution_count": 5,
      "metadata": {
        "colab": {
          "base_uri": "https://localhost:8080/"
        },
        "id": "SAUF8yDOG0_P",
        "outputId": "87d3c828-6ec5-4a4e-d382-09c0b4aa6627"
      },
      "outputs": [
        {
          "output_type": "execute_result",
          "data": {
            "text/plain": [
              "CNN(\n",
              "  (conv1): Conv2d(3, 8, kernel_size=(3, 3), stride=(1, 1), padding=(1, 1))\n",
              "  (bn1): BatchNorm2d(8, eps=1e-05, momentum=0.1, affine=True, track_running_stats=True)\n",
              "  (pool): MaxPool2d(kernel_size=2, stride=2, padding=0, dilation=1, ceil_mode=False)\n",
              "  (fc1): Linear(in_features=8388608, out_features=64, bias=True)\n",
              "  (fc2): Linear(in_features=64, out_features=1, bias=True)\n",
              "  (relu): ReLU()\n",
              "  (dropout): Dropout(p=0.3, inplace=False)\n",
              ")"
            ]
          },
          "metadata": {},
          "execution_count": 5
        }
      ],
      "source": [
        "import torch\n",
        "import torch.nn as nn\n",
        "\n",
        "class CNN(nn.Module):\n",
        "    def __init__(self):\n",
        "        super(CNN, self).__init__()\n",
        "        self.conv1 = nn.Conv2d(in_channels=3, out_channels=8, kernel_size=3, stride=1, padding=1)\n",
        "        self.bn1 = nn.BatchNorm2d(8)\n",
        "        self.pool = nn.MaxPool2d(kernel_size=2, stride=2)\n",
        "\n",
        "        # Calculate the dimensions after convolution and pooling\n",
        "        # Adjust the linear layer input size accordingly\n",
        "        self.fc1 = nn.Linear(8 * 1024 * 1024, 64)  # 2048 / 2 / 2 = 1024\n",
        "        self.fc2 = nn.Linear(64, 1)\n",
        "\n",
        "        self.relu = nn.ReLU()\n",
        "        self.dropout = nn.Dropout(0.3)\n",
        "\n",
        "    def forward(self, x):\n",
        "        x = self.pool(self.relu(self.bn1(self.conv1(x))))\n",
        "\n",
        "        # Flatten the tensor before passing it to fully connected layers\n",
        "        x = x.view(-1, 8 * 1024 * 1024)\n",
        "\n",
        "        x = self.dropout(self.relu(self.fc1(x)))\n",
        "        x = self.fc2(x)\n",
        "        return x\n",
        "\n",
        "model = CNN()\n",
        "model.to(device)"
      ]
    },
    {
      "cell_type": "markdown",
      "metadata": {
        "id": "iU73uKZ0G0_Q"
      },
      "source": [
        "### Setting Hyperparameters"
      ]
    },
    {
      "cell_type": "code",
      "execution_count": 6,
      "metadata": {
        "id": "yT3hNTMbG0_a"
      },
      "outputs": [],
      "source": [
        "num_epochs=10\n",
        "batch_size=2\n",
        "learning_rate=0.005"
      ]
    },
    {
      "cell_type": "markdown",
      "metadata": {
        "id": "zbNklVJ8G0_b"
      },
      "source": [
        "### Defining Loss Function and Optimizer"
      ]
    },
    {
      "cell_type": "code",
      "execution_count": 7,
      "metadata": {
        "id": "fjXHZnPtG0_b"
      },
      "outputs": [],
      "source": [
        "criterion=nn.MSELoss()\n",
        "optimizer=torch.optim.AdamW(model.parameters(),lr=learning_rate)"
      ]
    },
    {
      "cell_type": "markdown",
      "metadata": {
        "id": "LAdwGtoUG0_c"
      },
      "source": [
        "### Training & Validating Model"
      ]
    },
    {
      "cell_type": "code",
      "source": [
        "transform = transforms.Compose([\n",
        "    transforms.Resize((2048, 2048)),\n",
        "    transforms.ToTensor(),\n",
        "    transforms.Normalize((0.5,), (0.5,))\n",
        "])"
      ],
      "metadata": {
        "id": "wR7bxdKNimLu"
      },
      "execution_count": 8,
      "outputs": []
    },
    {
      "cell_type": "code",
      "execution_count": 9,
      "metadata": {
        "id": "yovPdXXaG0_d"
      },
      "outputs": [],
      "source": [
        "train_dataset=MyDataset(\"Data/train_set.csv\",transform=transform)\n",
        "train_dataloader=torch.utils.data.DataLoader(train_dataset,batch_size=batch_size,shuffle=True)"
      ]
    },
    {
      "cell_type": "code",
      "execution_count": 10,
      "metadata": {
        "id": "oK2MnIdgG0_e"
      },
      "outputs": [],
      "source": [
        "valid_dataset=MyDataset(\"Data/validation_set.csv\",transform=transform)\n",
        "valid_dataloader=torch.utils.data.DataLoader(valid_dataset,batch_size=batch_size,shuffle=True)"
      ]
    },
    {
      "cell_type": "code",
      "execution_count": 11,
      "metadata": {
        "colab": {
          "base_uri": "https://localhost:8080/",
          "height": 331
        },
        "id": "h02EBhLJG0_e",
        "outputId": "e955a6b0-5fd7-4d1c-c1c9-5969521eeba7"
      },
      "outputs": [
        {
          "output_type": "stream",
          "name": "stdout",
          "text": [
            "Epoch [1/10], Training Loss: 1960022.7293, Validation Loss: 102.4113\n",
            "Epoch [2/10], Training Loss: 1625.7378, Validation Loss: 1.8912\n",
            "Epoch [3/10], Training Loss: 23.8897, Validation Loss: 1.3560\n",
            "Epoch [4/10], Training Loss: 6.7857, Validation Loss: 1.2768\n",
            "Epoch [5/10], Training Loss: 14.1698, Validation Loss: 1.4368\n"
          ]
        },
        {
          "output_type": "error",
          "ename": "KeyboardInterrupt",
          "evalue": "ignored",
          "traceback": [
            "\u001b[0;31m---------------------------------------------------------------------------\u001b[0m",
            "\u001b[0;31mKeyboardInterrupt\u001b[0m                         Traceback (most recent call last)",
            "\u001b[0;32m<ipython-input-11-8cb07f56904a>\u001b[0m in \u001b[0;36m<cell line: 1>\u001b[0;34m()\u001b[0m\n\u001b[1;32m     14\u001b[0m         \u001b[0moptimizer\u001b[0m\u001b[0;34m.\u001b[0m\u001b[0mstep\u001b[0m\u001b[0;34m(\u001b[0m\u001b[0;34m)\u001b[0m\u001b[0;34m\u001b[0m\u001b[0;34m\u001b[0m\u001b[0m\n\u001b[1;32m     15\u001b[0m \u001b[0;34m\u001b[0m\u001b[0m\n\u001b[0;32m---> 16\u001b[0;31m         \u001b[0mtotal_loss\u001b[0m \u001b[0;34m+=\u001b[0m \u001b[0mloss\u001b[0m\u001b[0;34m.\u001b[0m\u001b[0mitem\u001b[0m\u001b[0;34m(\u001b[0m\u001b[0;34m)\u001b[0m\u001b[0;34m\u001b[0m\u001b[0;34m\u001b[0m\u001b[0m\n\u001b[0m\u001b[1;32m     17\u001b[0m         \u001b[0mavg_loss\u001b[0m\u001b[0;34m=\u001b[0m\u001b[0mtotal_loss\u001b[0m\u001b[0;34m/\u001b[0m\u001b[0mlen\u001b[0m\u001b[0;34m(\u001b[0m\u001b[0mtrain_dataloader\u001b[0m\u001b[0;34m)\u001b[0m\u001b[0;34m\u001b[0m\u001b[0;34m\u001b[0m\u001b[0m\n\u001b[1;32m     18\u001b[0m \u001b[0;34m\u001b[0m\u001b[0m\n",
            "\u001b[0;31mKeyboardInterrupt\u001b[0m: "
          ]
        }
      ],
      "source": [
        "for epoch in range(num_epochs):\n",
        "    model.train()\n",
        "    total_loss = 0.0\n",
        "\n",
        "    for i, (images, target) in enumerate(train_dataloader):\n",
        "        images = images.reshape(-1,3,2048,2048).to(device)\n",
        "        target = target.to(device).view(-1,1)\n",
        "\n",
        "        optimizer.zero_grad()\n",
        "\n",
        "        output = model(images)\n",
        "        loss = criterion(output, target)\n",
        "        loss.backward()\n",
        "        optimizer.step()\n",
        "\n",
        "        total_loss += loss.item()\n",
        "        avg_loss=total_loss/len(train_dataloader)\n",
        "\n",
        "    # Performing validation\n",
        "    model.eval()\n",
        "    with torch.no_grad():\n",
        "        val_loss = 0.0\n",
        "\n",
        "        for i, (val_images, val_target) in enumerate(valid_dataloader):\n",
        "            val_images = val_images.reshape(-1,3,2048,2048).to(device)\n",
        "            val_target = val_target.to(device).view(-1,1)\n",
        "\n",
        "            val_output = model(val_images)\n",
        "            val_loss += criterion(val_output, val_target).item()\n",
        "\n",
        "            average_val_loss = val_loss / len(valid_dataloader)\n",
        "\n",
        "    print(f'Epoch [{epoch+1}/{num_epochs}], Training Loss: {avg_loss:.4f}, Validation Loss: {average_val_loss:.4f}')"
      ]
    },
    {
      "cell_type": "markdown",
      "source": [
        "### Saving Model Weights"
      ],
      "metadata": {
        "id": "Xfn1fB1aMeg_"
      }
    },
    {
      "cell_type": "code",
      "source": [
        "torch.save(model.state_dict(), 'model_weights.pth')"
      ],
      "metadata": {
        "id": "6Gfrub4dL7EA"
      },
      "execution_count": null,
      "outputs": []
    },
    {
      "cell_type": "code",
      "source": [
        "model.load_state_dict(torch.load('model_weights.pth'))"
      ],
      "metadata": {
        "id": "mRS31Wu_L8Qy"
      },
      "execution_count": null,
      "outputs": []
    },
    {
      "cell_type": "markdown",
      "metadata": {
        "id": "CVr6MNLXG0_f"
      },
      "source": [
        "### Testing Model"
      ]
    },
    {
      "cell_type": "code",
      "execution_count": 12,
      "metadata": {
        "id": "ZySvt6iCG0_f"
      },
      "outputs": [],
      "source": [
        "test_dataset=MyDataset(\"Data/test_set.csv\",transform=transform)\n",
        "test_dataloader=torch.utils.data.DataLoader(test_dataset,batch_size=batch_size,shuffle=True)"
      ]
    },
    {
      "cell_type": "code",
      "execution_count": 14,
      "metadata": {
        "colab": {
          "base_uri": "https://localhost:8080/"
        },
        "id": "8VQCu-MaG0_g",
        "outputId": "0fdf1fa4-5e0d-413e-b8f7-0d45d45002e3"
      },
      "outputs": [
        {
          "output_type": "stream",
          "name": "stdout",
          "text": [
            "Average Loss: 1.769939105923253\n"
          ]
        }
      ],
      "source": [
        "predicted=[]\n",
        "actual=[]\n",
        "model.eval()\n",
        "with torch.no_grad():\n",
        "    test_loss = 0.0\n",
        "\n",
        "    for i, (test_images, test_target) in enumerate(test_dataloader):\n",
        "        test_images = test_images.reshape(-1,3,2048,2048).to(device)\n",
        "        test_target = test_target.to(device).view(-1,1)\n",
        "\n",
        "        test_output = model(test_images)\n",
        "        test_loss += criterion(test_output, test_target).item()\n",
        "\n",
        "        average_test_loss = test_loss / len(test_dataloader)\n",
        "\n",
        "        predicted.append(test_output)\n",
        "        actual.append(test_target)\n",
        "\n",
        "    print(f'Average Loss: {average_test_loss}')"
      ]
    },
    {
      "cell_type": "code",
      "source": [
        "for x,y in zip(predicted,actual):\n",
        "  for i,j in zip(x,y):\n",
        "    print(i.item(),\"  \",j.item())"
      ],
      "metadata": {
        "colab": {
          "base_uri": "https://localhost:8080/"
        },
        "id": "lUdOVPomseYO",
        "outputId": "5290de27-1ec4-4224-84d0-cbf5eed71c68"
      },
      "execution_count": 15,
      "outputs": [
        {
          "output_type": "stream",
          "name": "stdout",
          "text": [
            "1.5263001918792725    3.4549999237060547\n",
            "1.0516618490219116    2.125\n",
            "1.2205700874328613    1.8350000381469727\n",
            "1.2819716930389404    1.940000057220459\n",
            "1.2769827842712402    2.2300000190734863\n",
            "1.515235185623169    3.0999999046325684\n",
            "1.2814452648162842    1.725000023841858\n",
            "1.2978097200393677    2.115000009536743\n",
            "1.3272441625595093    2.3399999141693115\n",
            "1.45932936668396    1.0700000524520874\n",
            "1.1825096607208252    2.0299999713897705\n",
            "1.2713806629180908    1.350000023841858\n",
            "0.7964275479316711    2.2950000762939453\n",
            "1.200515627861023    2.115000009536743\n",
            "1.2247408628463745    2.7100000381469727\n",
            "1.289649486541748    2.5350000858306885\n",
            "1.049232840538025    2.7100000381469727\n",
            "1.3806689977645874    3.180000066757202\n",
            "1.492409586906433    4.050000190734863\n",
            "1.390131950378418    3.549999952316284\n",
            "1.240668773651123    0.7649999856948853\n",
            "1.2609940767288208    3.940000057220459\n",
            "1.1518058776855469    0.28999999165534973\n",
            "1.263269066810608    0.6000000238418579\n",
            "1.4322949647903442    0.17000000178813934\n",
            "1.068034052848816    1.8300000429153442\n",
            "1.2296682596206665    0.8399999737739563\n",
            "1.0223557949066162    1.25\n",
            "1.0671826601028442    0.6200000047683716\n",
            "0.5456070899963379    1.0700000524520874\n",
            "1.7972121238708496    1.350000023841858\n",
            "1.53090500831604    1.850000023841858\n",
            "1.0892493724822998    0.574999988079071\n",
            "1.2480007410049438    3.940000057220459\n",
            "1.178747296333313    3.434999942779541\n",
            "0.9325017333030701    3.434999942779541\n",
            "1.4347206354141235    2.0199999809265137\n",
            "1.2439064979553223    3.8299999237060547\n",
            "1.3218141794204712    0.4050000011920929\n",
            "1.1226511001586914    1.774999976158142\n",
            "1.4868042469024658    2.640000104904175\n",
            "0.7079800963401794    2.0199999809265137\n",
            "1.3719722032546997    2.5350000858306885\n",
            "1.413476824760437    1.690000057220459\n",
            "1.5246139764785767    1.2649999856948853\n",
            "1.01034677028656    0.46000000834465027\n",
            "1.5019757747650146    0.4699999988079071\n",
            "1.169216275215149    0.28999999165534973\n",
            "1.0592315196990967    2.875\n",
            "1.1162220239639282    2.640000104904175\n",
            "1.1736990213394165    3.265000104904175\n",
            "1.1968079805374146    1.8350000381469727\n",
            "1.2943384647369385    0.25\n",
            "0.8350706100463867    4.050000190734863\n",
            "1.5942561626434326    0.33500000834465027\n",
            "1.6618201732635498    3.5450000762939453\n",
            "1.510237455368042    3.8299999237060547\n",
            "1.2193536758422852    0.574999988079071\n",
            "1.0412635803222656    0.20000000298023224\n",
            "1.6823670864105225    3.8299999237060547\n",
            "1.2680811882019043    2.0399999618530273\n",
            "1.7984064817428589    0.4950000047683716\n",
            "1.2320854663848877    2.5350000858306885\n",
            "1.3543559312820435    2.1500000953674316\n",
            "1.801986813545227    3.755000114440918\n",
            "1.2615281343460083    2.8450000286102295\n",
            "0.9472840428352356    1.7999999523162842\n",
            "1.0967925786972046    3.5350000858306885\n",
            "1.19867742061615    3.8299999237060547\n",
            "1.068786382675171    2.2950000762939453\n",
            "1.3860262632369995    1.1200000047683716\n",
            "1.3551548719406128    3.434999942779541\n",
            "1.4956532716751099    1.7999999523162842\n",
            "1.155678153038025    3.069999933242798\n",
            "1.0990965366363525    1.7549999952316284\n",
            "1.3391822576522827    0.8650000095367432\n",
            "0.9545162916183472    2.134999990463257\n",
            "1.3603515625    2.125\n",
            "0.996021032333374    0.9900000095367432\n",
            "1.3556302785873413    4.050000190734863\n",
            "1.0706830024719238    0.9150000214576721\n",
            "0.9421141147613525    1.159999966621399\n",
            "1.0549947023391724    0.7649999856948853\n",
            "0.9938072562217712    0.6700000166893005\n",
            "1.5980074405670166    2.194999933242798\n",
            "1.2072895765304565    3.8299999237060547\n",
            "1.0858532190322876    1.8350000381469727\n",
            "1.0433578491210938    1.3700000047683716\n",
            "1.1776758432388306    2.450000047683716\n",
            "1.5438685417175293    1.4800000190734863\n",
            "1.1514225006103516    0.7049999833106995\n",
            "1.3114912509918213    0.5600000023841858\n",
            "0.8322821855545044    0.20499999821186066\n",
            "1.636337161064148    3.180000066757202\n",
            "1.1219221353530884    0.8399999737739563\n",
            "1.163879156112671    1.5800000429153442\n",
            "1.2153822183609009    0.8600000143051147\n",
            "1.3419562578201294    2.450000047683716\n",
            "0.7747401595115662    1.7649999856948853\n",
            "1.0776208639144897    0.6650000214576721\n",
            "1.040864109992981    1.1200000047683716\n",
            "0.8989139199256897    0.8349999785423279\n",
            "1.7874541282653809    3.940000057220459\n",
            "1.1966084241867065    1.4700000286102295\n",
            "1.1816328763961792    1.5549999475479126\n",
            "1.4931495189666748    3.430000066757202\n",
            "1.5095094442367554    3.180000066757202\n",
            "1.3081858158111572    1.350000023841858\n"
          ]
        }
      ]
    }
  ],
  "metadata": {
    "kernelspec": {
      "display_name": "Python 3",
      "name": "python3"
    },
    "language_info": {
      "codemirror_mode": {
        "name": "ipython",
        "version": 3
      },
      "file_extension": ".py",
      "mimetype": "text/x-python",
      "name": "python",
      "nbconvert_exporter": "python",
      "pygments_lexer": "ipython3",
      "version": "3.11.5"
    },
    "colab": {
      "provenance": [],
      "gpuType": "T4"
    },
    "accelerator": "GPU"
  },
  "nbformat": 4,
  "nbformat_minor": 0
}