{
  "cells": [
    {
      "cell_type": "markdown",
      "metadata": {
        "id": "kFwo3qnrG0_C"
      },
      "source": [
        "# Regression Model"
      ]
    },
    {
      "cell_type": "markdown",
      "metadata": {
        "id": "okemX9DCG0_J"
      },
      "source": [
        "### Importing Libraries"
      ]
    },
    {
      "cell_type": "code",
      "source": [
        "# from google.colab import drive\n",
        "# drive.mount('/content/drive')"
      ],
      "metadata": {
        "id": "hCfm1DUqG5FR",
        "colab": {
          "base_uri": "https://localhost:8080/"
        },
        "outputId": "5670537d-fe24-4f61-dc3b-8fb3c552b5c4"
      },
      "execution_count": 1,
      "outputs": [
        {
          "output_type": "stream",
          "name": "stdout",
          "text": [
            "Mounted at /content/drive\n"
          ]
        }
      ]
    },
    {
      "cell_type": "code",
      "source": [
        "import os\n",
        "os.chdir(\"drive/MyDrive/DL_Project\")"
      ],
      "metadata": {
        "id": "VMNnP4M2G-6z"
      },
      "execution_count": 2,
      "outputs": []
    },
    {
      "cell_type": "code",
      "execution_count": 3,
      "metadata": {
        "id": "6A6WRQ9XG0_K"
      },
      "outputs": [],
      "source": [
        "from Dataset import MyDataset\n",
        "import torch\n",
        "import torch.nn as nn\n",
        "import torchvision.transforms as transforms"
      ]
    },
    {
      "cell_type": "code",
      "execution_count": 4,
      "metadata": {
        "id": "s8C0rcIOG0_O"
      },
      "outputs": [],
      "source": [
        "device=torch.device('cuda' if torch.cuda.is_available() else 'cpu')"
      ]
    },
    {
      "cell_type": "markdown",
      "metadata": {
        "id": "XIl5QLFOG0_P"
      },
      "source": [
        "### Implementing Model"
      ]
    },
    {
      "cell_type": "code",
      "execution_count": 5,
      "metadata": {
        "colab": {
          "base_uri": "https://localhost:8080/"
        },
        "id": "SAUF8yDOG0_P",
        "outputId": "ef97a491-af29-4ce5-c688-c18353d1e728"
      },
      "outputs": [
        {
          "output_type": "stream",
          "name": "stderr",
          "text": [
            "/usr/local/lib/python3.10/dist-packages/torchvision/models/_utils.py:208: UserWarning: The parameter 'pretrained' is deprecated since 0.13 and may be removed in the future, please use 'weights' instead.\n",
            "  warnings.warn(\n",
            "/usr/local/lib/python3.10/dist-packages/torchvision/models/_utils.py:223: UserWarning: Arguments other than a weight enum or `None` for 'weights' are deprecated since 0.13 and may be removed in the future. The current behavior is equivalent to passing `weights=ResNet18_Weights.IMAGENET1K_V1`. You can also use `weights=ResNet18_Weights.DEFAULT` to get the most up-to-date weights.\n",
            "  warnings.warn(msg)\n",
            "Downloading: \"https://download.pytorch.org/models/resnet18-f37072fd.pth\" to /root/.cache/torch/hub/checkpoints/resnet18-f37072fd.pth\n",
            "100%|██████████| 44.7M/44.7M [00:00<00:00, 91.6MB/s]\n"
          ]
        },
        {
          "output_type": "execute_result",
          "data": {
            "text/plain": [
              "CNN(\n",
              "  (resnet): ResNet(\n",
              "    (conv1): Conv2d(3, 64, kernel_size=(7, 7), stride=(2, 2), padding=(3, 3), bias=False)\n",
              "    (bn1): BatchNorm2d(64, eps=1e-05, momentum=0.1, affine=True, track_running_stats=True)\n",
              "    (relu): ReLU(inplace=True)\n",
              "    (maxpool): MaxPool2d(kernel_size=3, stride=2, padding=1, dilation=1, ceil_mode=False)\n",
              "    (layer1): Sequential(\n",
              "      (0): BasicBlock(\n",
              "        (conv1): Conv2d(64, 64, kernel_size=(3, 3), stride=(1, 1), padding=(1, 1), bias=False)\n",
              "        (bn1): BatchNorm2d(64, eps=1e-05, momentum=0.1, affine=True, track_running_stats=True)\n",
              "        (relu): ReLU(inplace=True)\n",
              "        (conv2): Conv2d(64, 64, kernel_size=(3, 3), stride=(1, 1), padding=(1, 1), bias=False)\n",
              "        (bn2): BatchNorm2d(64, eps=1e-05, momentum=0.1, affine=True, track_running_stats=True)\n",
              "      )\n",
              "      (1): BasicBlock(\n",
              "        (conv1): Conv2d(64, 64, kernel_size=(3, 3), stride=(1, 1), padding=(1, 1), bias=False)\n",
              "        (bn1): BatchNorm2d(64, eps=1e-05, momentum=0.1, affine=True, track_running_stats=True)\n",
              "        (relu): ReLU(inplace=True)\n",
              "        (conv2): Conv2d(64, 64, kernel_size=(3, 3), stride=(1, 1), padding=(1, 1), bias=False)\n",
              "        (bn2): BatchNorm2d(64, eps=1e-05, momentum=0.1, affine=True, track_running_stats=True)\n",
              "      )\n",
              "    )\n",
              "    (layer2): Sequential(\n",
              "      (0): BasicBlock(\n",
              "        (conv1): Conv2d(64, 128, kernel_size=(3, 3), stride=(2, 2), padding=(1, 1), bias=False)\n",
              "        (bn1): BatchNorm2d(128, eps=1e-05, momentum=0.1, affine=True, track_running_stats=True)\n",
              "        (relu): ReLU(inplace=True)\n",
              "        (conv2): Conv2d(128, 128, kernel_size=(3, 3), stride=(1, 1), padding=(1, 1), bias=False)\n",
              "        (bn2): BatchNorm2d(128, eps=1e-05, momentum=0.1, affine=True, track_running_stats=True)\n",
              "        (downsample): Sequential(\n",
              "          (0): Conv2d(64, 128, kernel_size=(1, 1), stride=(2, 2), bias=False)\n",
              "          (1): BatchNorm2d(128, eps=1e-05, momentum=0.1, affine=True, track_running_stats=True)\n",
              "        )\n",
              "      )\n",
              "      (1): BasicBlock(\n",
              "        (conv1): Conv2d(128, 128, kernel_size=(3, 3), stride=(1, 1), padding=(1, 1), bias=False)\n",
              "        (bn1): BatchNorm2d(128, eps=1e-05, momentum=0.1, affine=True, track_running_stats=True)\n",
              "        (relu): ReLU(inplace=True)\n",
              "        (conv2): Conv2d(128, 128, kernel_size=(3, 3), stride=(1, 1), padding=(1, 1), bias=False)\n",
              "        (bn2): BatchNorm2d(128, eps=1e-05, momentum=0.1, affine=True, track_running_stats=True)\n",
              "      )\n",
              "    )\n",
              "    (layer3): Sequential(\n",
              "      (0): BasicBlock(\n",
              "        (conv1): Conv2d(128, 256, kernel_size=(3, 3), stride=(2, 2), padding=(1, 1), bias=False)\n",
              "        (bn1): BatchNorm2d(256, eps=1e-05, momentum=0.1, affine=True, track_running_stats=True)\n",
              "        (relu): ReLU(inplace=True)\n",
              "        (conv2): Conv2d(256, 256, kernel_size=(3, 3), stride=(1, 1), padding=(1, 1), bias=False)\n",
              "        (bn2): BatchNorm2d(256, eps=1e-05, momentum=0.1, affine=True, track_running_stats=True)\n",
              "        (downsample): Sequential(\n",
              "          (0): Conv2d(128, 256, kernel_size=(1, 1), stride=(2, 2), bias=False)\n",
              "          (1): BatchNorm2d(256, eps=1e-05, momentum=0.1, affine=True, track_running_stats=True)\n",
              "        )\n",
              "      )\n",
              "      (1): BasicBlock(\n",
              "        (conv1): Conv2d(256, 256, kernel_size=(3, 3), stride=(1, 1), padding=(1, 1), bias=False)\n",
              "        (bn1): BatchNorm2d(256, eps=1e-05, momentum=0.1, affine=True, track_running_stats=True)\n",
              "        (relu): ReLU(inplace=True)\n",
              "        (conv2): Conv2d(256, 256, kernel_size=(3, 3), stride=(1, 1), padding=(1, 1), bias=False)\n",
              "        (bn2): BatchNorm2d(256, eps=1e-05, momentum=0.1, affine=True, track_running_stats=True)\n",
              "      )\n",
              "    )\n",
              "    (layer4): Sequential(\n",
              "      (0): BasicBlock(\n",
              "        (conv1): Conv2d(256, 512, kernel_size=(3, 3), stride=(2, 2), padding=(1, 1), bias=False)\n",
              "        (bn1): BatchNorm2d(512, eps=1e-05, momentum=0.1, affine=True, track_running_stats=True)\n",
              "        (relu): ReLU(inplace=True)\n",
              "        (conv2): Conv2d(512, 512, kernel_size=(3, 3), stride=(1, 1), padding=(1, 1), bias=False)\n",
              "        (bn2): BatchNorm2d(512, eps=1e-05, momentum=0.1, affine=True, track_running_stats=True)\n",
              "        (downsample): Sequential(\n",
              "          (0): Conv2d(256, 512, kernel_size=(1, 1), stride=(2, 2), bias=False)\n",
              "          (1): BatchNorm2d(512, eps=1e-05, momentum=0.1, affine=True, track_running_stats=True)\n",
              "        )\n",
              "      )\n",
              "      (1): BasicBlock(\n",
              "        (conv1): Conv2d(512, 512, kernel_size=(3, 3), stride=(1, 1), padding=(1, 1), bias=False)\n",
              "        (bn1): BatchNorm2d(512, eps=1e-05, momentum=0.1, affine=True, track_running_stats=True)\n",
              "        (relu): ReLU(inplace=True)\n",
              "        (conv2): Conv2d(512, 512, kernel_size=(3, 3), stride=(1, 1), padding=(1, 1), bias=False)\n",
              "        (bn2): BatchNorm2d(512, eps=1e-05, momentum=0.1, affine=True, track_running_stats=True)\n",
              "      )\n",
              "    )\n",
              "    (avgpool): AdaptiveAvgPool2d(output_size=(1, 1))\n",
              "    (fc): Linear(in_features=512, out_features=1000, bias=True)\n",
              "  )\n",
              "  (attention): AttentionLayer(\n",
              "    (attention): Sequential(\n",
              "      (0): Linear(in_features=512, out_features=512, bias=True)\n",
              "      (1): Sigmoid()\n",
              "    )\n",
              "  )\n",
              "  (fc): Linear(in_features=512, out_features=1, bias=True)\n",
              ")"
            ]
          },
          "metadata": {},
          "execution_count": 5
        }
      ],
      "source": [
        "import torch\n",
        "import torch.nn as nn\n",
        "import torchvision.models as models\n",
        "\n",
        "# Define attention mechanism\n",
        "class AttentionLayer(nn.Module):\n",
        "    def __init__(self, in_features, out_features):\n",
        "        super(AttentionLayer, self).__init__()\n",
        "        self.attention = nn.Sequential(\n",
        "            nn.Linear(in_features, out_features),\n",
        "            nn.Sigmoid()\n",
        "        )\n",
        "\n",
        "    def forward(self, x):\n",
        "        attn_weights = self.attention(x)\n",
        "        return x * attn_weights\n",
        "\n",
        "# Custom CNN model with ResNet18 and attention layer\n",
        "class CNN(nn.Module):\n",
        "    def __init__(self, num_classes):\n",
        "        super(CNN, self).__init__()\n",
        "        self.resnet = models.resnet18(pretrained=True)\n",
        "        self.attention = AttentionLayer(512, 512)  # Assuming ResNet18 output features are 512\n",
        "        self.fc = nn.Linear(512, num_classes)  # Single neuron for prediction\n",
        "\n",
        "    def forward(self, x):\n",
        "        x = self.resnet.conv1(x)\n",
        "        x = self.resnet.bn1(x)\n",
        "        x = self.resnet.relu(x)\n",
        "        x = self.resnet.maxpool(x)\n",
        "\n",
        "        x = self.resnet.layer1(x)\n",
        "        x = self.resnet.layer2(x)\n",
        "        x = self.resnet.layer3(x)\n",
        "        x = self.resnet.layer4(x)\n",
        "\n",
        "        x = self.resnet.avgpool(x)\n",
        "        x = torch.flatten(x, 1)\n",
        "\n",
        "        x = self.attention(x)  # Apply attention\n",
        "        x = self.fc(x)  # Final output\n",
        "\n",
        "        return x.view(-1,1)\n",
        "\n",
        "model = CNN(1)\n",
        "model.to(device)"
      ]
    },
    {
      "cell_type": "markdown",
      "metadata": {
        "id": "iU73uKZ0G0_Q"
      },
      "source": [
        "### Setting Hyperparameters"
      ]
    },
    {
      "cell_type": "code",
      "execution_count": 6,
      "metadata": {
        "id": "yT3hNTMbG0_a"
      },
      "outputs": [],
      "source": [
        "num_epochs=50\n",
        "batch_size=2\n",
        "learning_rate=0.00005"
      ]
    },
    {
      "cell_type": "markdown",
      "metadata": {
        "id": "zbNklVJ8G0_b"
      },
      "source": [
        "### Defining Loss Function and Optimizer"
      ]
    },
    {
      "cell_type": "code",
      "execution_count": 7,
      "metadata": {
        "id": "fjXHZnPtG0_b"
      },
      "outputs": [],
      "source": [
        "criterion=nn.MSELoss()\n",
        "optimizer=torch.optim.AdamW(model.parameters(),lr=learning_rate)"
      ]
    },
    {
      "cell_type": "markdown",
      "metadata": {
        "id": "LAdwGtoUG0_c"
      },
      "source": [
        "### Training & Validating Model"
      ]
    },
    {
      "cell_type": "code",
      "source": [
        "transform = transforms.Compose([\n",
        "    transforms.ToTensor(),\n",
        "    transforms.Normalize((0.5,), (0.5,))\n",
        "])"
      ],
      "metadata": {
        "id": "wR7bxdKNimLu"
      },
      "execution_count": 8,
      "outputs": []
    },
    {
      "cell_type": "code",
      "execution_count": 9,
      "metadata": {
        "id": "yovPdXXaG0_d"
      },
      "outputs": [],
      "source": [
        "train_dataset=MyDataset(\"Data/train_set.csv\",transform=transform)\n",
        "train_dataloader=torch.utils.data.DataLoader(train_dataset,batch_size=batch_size,shuffle=True)"
      ]
    },
    {
      "cell_type": "code",
      "execution_count": 10,
      "metadata": {
        "id": "oK2MnIdgG0_e"
      },
      "outputs": [],
      "source": [
        "valid_dataset=MyDataset(\"Data/validation_set.csv\",transform=transform)\n",
        "valid_dataloader=torch.utils.data.DataLoader(valid_dataset,batch_size=batch_size,shuffle=True)"
      ]
    },
    {
      "cell_type": "code",
      "execution_count": 11,
      "metadata": {
        "colab": {
          "base_uri": "https://localhost:8080/",
          "height": 366
        },
        "id": "h02EBhLJG0_e",
        "outputId": "ee065cf4-34d8-43d2-e454-80cb4f6a4da1"
      },
      "outputs": [
        {
          "output_type": "stream",
          "name": "stdout",
          "text": [
            "Epoch [1/50], Training Loss: 1.0690, Validation Loss: 0.4383\n",
            "Epoch [2/50], Training Loss: 0.6246, Validation Loss: 0.1907\n",
            "Epoch [3/50], Training Loss: 0.4692, Validation Loss: 0.2344\n",
            "Epoch [4/50], Training Loss: 0.4599, Validation Loss: 0.2050\n",
            "Epoch [5/50], Training Loss: 0.3047, Validation Loss: 0.2261\n",
            "Epoch [6/50], Training Loss: 0.2442, Validation Loss: 0.2452\n",
            "Epoch [7/50], Training Loss: 0.1970, Validation Loss: 0.3029\n"
          ]
        },
        {
          "output_type": "error",
          "ename": "KeyboardInterrupt",
          "evalue": "ignored",
          "traceback": [
            "\u001b[0;31m---------------------------------------------------------------------------\u001b[0m",
            "\u001b[0;31mKeyboardInterrupt\u001b[0m                         Traceback (most recent call last)",
            "\u001b[0;32m<ipython-input-11-06858d6d609f>\u001b[0m in \u001b[0;36m<cell line: 1>\u001b[0;34m()\u001b[0m\n\u001b[1;32m     14\u001b[0m         \u001b[0moptimizer\u001b[0m\u001b[0;34m.\u001b[0m\u001b[0mstep\u001b[0m\u001b[0;34m(\u001b[0m\u001b[0;34m)\u001b[0m\u001b[0;34m\u001b[0m\u001b[0;34m\u001b[0m\u001b[0m\n\u001b[1;32m     15\u001b[0m \u001b[0;34m\u001b[0m\u001b[0m\n\u001b[0;32m---> 16\u001b[0;31m         \u001b[0mtotal_loss\u001b[0m \u001b[0;34m+=\u001b[0m \u001b[0mloss\u001b[0m\u001b[0;34m.\u001b[0m\u001b[0mitem\u001b[0m\u001b[0;34m(\u001b[0m\u001b[0;34m)\u001b[0m\u001b[0;34m\u001b[0m\u001b[0;34m\u001b[0m\u001b[0m\n\u001b[0m\u001b[1;32m     17\u001b[0m         \u001b[0mavg_loss\u001b[0m\u001b[0;34m=\u001b[0m\u001b[0mtotal_loss\u001b[0m\u001b[0;34m/\u001b[0m\u001b[0mlen\u001b[0m\u001b[0;34m(\u001b[0m\u001b[0mtrain_dataloader\u001b[0m\u001b[0;34m)\u001b[0m\u001b[0;34m\u001b[0m\u001b[0;34m\u001b[0m\u001b[0m\n\u001b[1;32m     18\u001b[0m \u001b[0;34m\u001b[0m\u001b[0m\n",
            "\u001b[0;31mKeyboardInterrupt\u001b[0m: "
          ]
        }
      ],
      "source": [
        "for epoch in range(num_epochs):\n",
        "    model.train()\n",
        "    total_loss = 0.0\n",
        "\n",
        "    for i, (images, target) in enumerate(train_dataloader):\n",
        "        images = images.reshape(-1,3,4000,3000).to(device)\n",
        "        target = target.to(device).view(-1,1)\n",
        "\n",
        "        optimizer.zero_grad()\n",
        "\n",
        "        output = model(images)\n",
        "        loss = criterion(output, target)\n",
        "        loss.backward()\n",
        "        optimizer.step()\n",
        "\n",
        "        total_loss += loss.item()\n",
        "        avg_loss=total_loss/len(train_dataloader)\n",
        "\n",
        "    # Performing validation\n",
        "    model.eval()\n",
        "    with torch.no_grad():\n",
        "        val_loss = 0.0\n",
        "\n",
        "        for i, (val_images, val_target) in enumerate(valid_dataloader):\n",
        "            val_images = val_images.reshape(-1,3,4000,3000).to(device)\n",
        "            val_target = val_target.to(device).view(-1,1)\n",
        "\n",
        "            val_output = model(val_images)\n",
        "            val_loss += criterion(val_output, val_target).item()\n",
        "\n",
        "\n",
        "            average_val_loss = val_loss / len(valid_dataloader)\n",
        "\n",
        "    print(f'Epoch [{epoch+1}/{num_epochs}], Training Loss: {avg_loss:.4f}, Validation Loss: {average_val_loss:.4f}')"
      ]
    },
    {
      "cell_type": "markdown",
      "source": [
        "### Saving Model Weights"
      ],
      "metadata": {
        "id": "Xfn1fB1aMeg_"
      }
    },
    {
      "cell_type": "code",
      "source": [
        "torch.save(model.state_dict(), 'model_weights.pth')"
      ],
      "metadata": {
        "id": "6Gfrub4dL7EA"
      },
      "execution_count": null,
      "outputs": []
    },
    {
      "cell_type": "code",
      "source": [
        "model.load_state_dict(torch.load('model_weights.pth'))"
      ],
      "metadata": {
        "id": "mRS31Wu_L8Qy"
      },
      "execution_count": null,
      "outputs": []
    },
    {
      "cell_type": "markdown",
      "metadata": {
        "id": "CVr6MNLXG0_f"
      },
      "source": [
        "### Testing Model"
      ]
    },
    {
      "cell_type": "code",
      "execution_count": 12,
      "metadata": {
        "id": "ZySvt6iCG0_f"
      },
      "outputs": [],
      "source": [
        "test_dataset=MyDataset(\"Data/test_set.csv\",transform=transform)\n",
        "test_dataloader=torch.utils.data.DataLoader(test_dataset,batch_size=batch_size,shuffle=True)"
      ]
    },
    {
      "cell_type": "code",
      "execution_count": 13,
      "metadata": {
        "id": "8VQCu-MaG0_g",
        "colab": {
          "base_uri": "https://localhost:8080/"
        },
        "outputId": "9bf6413c-140e-40ee-d411-20eae2098802"
      },
      "outputs": [
        {
          "output_type": "stream",
          "name": "stdout",
          "text": [
            "Average Loss: 0.5370181113378041\n"
          ]
        }
      ],
      "source": [
        "correct=[]\n",
        "predicted=[]\n",
        "model.eval()\n",
        "with torch.no_grad():\n",
        "    test_loss = 0.0\n",
        "\n",
        "    for i, (test_images, test_target) in enumerate(test_dataloader):\n",
        "        test_images = test_images.reshape(-1,3,4000,3000).to(device)\n",
        "        test_target = test_target.to(device).view(-1,1)\n",
        "\n",
        "        test_output = model(test_images)\n",
        "        test_loss += criterion(test_output, test_target).item()\n",
        "\n",
        "        correct.append(test_target)\n",
        "        predicted.append(test_output)\n",
        "\n",
        "        average_test_loss = test_loss / len(test_dataloader)\n",
        "\n",
        "    print(f'Average Loss: {average_test_loss}')"
      ]
    },
    {
      "cell_type": "code",
      "source": [
        "for x,y in zip(correct,predicted):\n",
        "  for i,j in zip(x,y):\n",
        "    print(i.item(),j.item())"
      ],
      "metadata": {
        "id": "DEa8-53KiWzu",
        "colab": {
          "base_uri": "https://localhost:8080/"
        },
        "outputId": "bd9ef63e-12be-4900-c39e-812cdd512287"
      },
      "execution_count": 15,
      "outputs": [
        {
          "output_type": "stream",
          "name": "stdout",
          "text": [
            "0.28999999165534973 -0.2531120479106903\n",
            "1.0700000524520874 1.207817554473877\n",
            "0.574999988079071 0.3017595708370209\n",
            "4.050000190734863 2.532141923904419\n",
            "2.125 1.446120262145996\n",
            "0.8349999785423279 0.13314920663833618\n",
            "3.4549999237060547 2.9923553466796875\n",
            "2.125 1.313530445098877\n",
            "1.940000057220459 1.665525197982788\n",
            "2.2950000762939453 1.37776780128479\n",
            "1.774999976158142 1.953223466873169\n",
            "2.0199999809265137 1.7800241708755493\n",
            "2.5350000858306885 1.7730950117111206\n",
            "1.8350000381469727 1.2665289640426636\n",
            "3.265000104904175 2.1005730628967285\n",
            "2.450000047683716 1.701753854751587\n",
            "3.434999942779541 2.6319241523742676\n",
            "3.180000066757202 2.950305700302124\n",
            "1.8350000381469727 1.0309303998947144\n",
            "2.1500000953674316 1.4740568399429321\n",
            "1.5549999475479126 0.7733040452003479\n",
            "0.6650000214576721 0.6836261749267578\n",
            "2.7100000381469727 2.4391837120056152\n",
            "2.0399999618530273 1.3872705698013306\n",
            "2.0199999809265137 1.0657202005386353\n",
            "1.5800000429153442 0.975288987159729\n",
            "0.46000000834465027 0.0675409734249115\n",
            "1.7549999952316284 1.387303352355957\n",
            "1.7999999523162842 1.8876750469207764\n",
            "0.20499999821186066 0.01927867904305458\n",
            "2.134999990463257 1.7471719980239868\n",
            "0.20000000298023224 0.07234002649784088\n",
            "3.0999999046325684 2.3394463062286377\n",
            "0.17000000178813934 0.37812989950180054\n",
            "3.069999933242798 2.37198543548584\n",
            "3.5350000858306885 2.0241222381591797\n",
            "0.7649999856948853 0.4887729287147522\n",
            "2.640000104904175 1.4577871561050415\n",
            "1.8300000429153442 1.230142593383789\n",
            "1.8350000381469727 0.9903417825698853\n",
            "2.115000009536743 1.2623603343963623\n",
            "0.574999988079071 0.1940275877714157\n",
            "1.850000023841858 1.884200096130371\n",
            "3.180000066757202 2.8485047817230225\n",
            "2.3399999141693115 1.6748559474945068\n",
            "1.7999999523162842 0.8454153537750244\n",
            "3.5450000762939453 3.425541877746582\n",
            "1.725000023841858 1.1192944049835205\n",
            "2.640000104904175 1.1191216707229614\n",
            "1.690000057220459 1.024402379989624\n",
            "2.2300000190734863 1.564395546913147\n",
            "1.350000023841858 1.303877592086792\n",
            "3.430000066757202 2.576565742492676\n",
            "3.8299999237060547 2.6964354515075684\n",
            "0.6200000047683716 -0.2872234582901001\n",
            "0.33500000834465027 0.35897451639175415\n",
            "4.050000190734863 2.8342678546905518\n",
            "1.3700000047683716 0.9662526249885559\n",
            "3.8299999237060547 3.175729513168335\n",
            "3.180000066757202 2.5562944412231445\n",
            "0.4699999988079071 0.5485361814498901\n",
            "0.8650000095367432 0.5061253309249878\n",
            "0.9900000095367432 0.5966178178787231\n",
            "1.159999966621399 0.16042794287204742\n",
            "3.940000057220459 2.5282986164093018\n",
            "2.875 2.1588292121887207\n",
            "3.8299999237060547 2.6578173637390137\n",
            "1.0700000524520874 0.33841654658317566\n",
            "3.940000057220459 3.5054593086242676\n",
            "2.8450000286102295 2.3617894649505615\n",
            "3.940000057220459 3.118126153945923\n",
            "1.350000023841858 0.5370752215385437\n",
            "0.6700000166893005 0.3220929801464081\n",
            "0.4050000011920929 0.6197670698165894\n",
            "2.450000047683716 1.4022598266601562\n",
            "1.1200000047683716 0.8834681510925293\n",
            "2.2950000762939453 1.301330327987671\n",
            "3.549999952316284 2.9959096908569336\n",
            "2.5350000858306885 1.8022260665893555\n",
            "1.350000023841858 0.7398123145103455\n",
            "3.8299999237060547 2.665552854537964\n",
            "0.8399999737739563 0.1429506540298462\n",
            "2.5350000858306885 1.949721097946167\n",
            "0.9150000214576721 0.6106942892074585\n",
            "1.1200000047683716 0.7416141629219055\n",
            "0.8600000143051147 0.3569226562976837\n",
            "0.4950000047683716 0.9658260345458984\n",
            "2.194999933242798 1.1886450052261353\n",
            "1.25 0.38658466935157776\n",
            "2.7100000381469727 2.098710536956787\n",
            "3.434999942779541 2.775263786315918\n",
            "0.7049999833106995 0.4017341732978821\n",
            "3.755000114440918 3.192564010620117\n",
            "0.6000000238418579 0.5456202030181885\n",
            "2.0299999713897705 1.2957258224487305\n",
            "1.4800000190734863 1.2806147336959839\n",
            "4.050000190734863 2.0270798206329346\n",
            "0.7649999856948853 0.6383289098739624\n",
            "0.5600000023841858 0.5335403680801392\n",
            "2.115000009536743 1.9837883710861206\n",
            "1.2649999856948853 0.3657543659210205\n",
            "3.8299999237060547 2.632849931716919\n",
            "3.434999942779541 1.527988314628601\n",
            "1.4700000286102295 1.3458014726638794\n",
            "1.7649999856948853 1.328677773475647\n",
            "0.25 0.5443021655082703\n",
            "0.28999999165534973 0.012874636799097061\n",
            "0.8399999737739563 0.8751732110977173\n"
          ]
        }
      ]
    }
  ],
  "metadata": {
    "kernelspec": {
      "display_name": "Python 3",
      "name": "python3"
    },
    "language_info": {
      "codemirror_mode": {
        "name": "ipython",
        "version": 3
      },
      "file_extension": ".py",
      "mimetype": "text/x-python",
      "name": "python",
      "nbconvert_exporter": "python",
      "pygments_lexer": "ipython3",
      "version": "3.11.5"
    },
    "colab": {
      "provenance": [],
      "gpuType": "T4"
    },
    "accelerator": "GPU"
  },
  "nbformat": 4,
  "nbformat_minor": 0
}